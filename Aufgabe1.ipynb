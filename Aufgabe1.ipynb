{
 "cells": [
  {
   "cell_type": "markdown",
   "metadata": {
    "deletable": true,
    "editable": true
   },
   "source": [
    "# Übung 1"
   ]
  },
  {
   "cell_type": "code",
   "execution_count": 28,
   "metadata": {
    "collapsed": true,
    "deletable": true,
    "editable": true
   },
   "outputs": [],
   "source": [
    "import pandas as pd\n",
    "import numpy as np\n",
    "from IPython.display import display"
   ]
  },
  {
   "cell_type": "code",
   "execution_count": 29,
   "metadata": {
    "collapsed": false,
    "deletable": true,
    "editable": true
   },
   "outputs": [
    {
     "data": {
      "text/html": [
       "<div>\n",
       "<style>\n",
       "    .dataframe thead tr:only-child th {\n",
       "        text-align: right;\n",
       "    }\n",
       "\n",
       "    .dataframe thead th {\n",
       "        text-align: left;\n",
       "    }\n",
       "\n",
       "    .dataframe tbody tr th {\n",
       "        vertical-align: top;\n",
       "    }\n",
       "</style>\n",
       "<table border=\"1\" class=\"dataframe\">\n",
       "  <thead>\n",
       "    <tr style=\"text-align: right;\">\n",
       "      <th></th>\n",
       "      <th>CRIM</th>\n",
       "      <th>ZN</th>\n",
       "      <th>INDUS</th>\n",
       "      <th>CHAS</th>\n",
       "      <th>NOX</th>\n",
       "      <th>RM</th>\n",
       "      <th>AGE</th>\n",
       "      <th>DIS</th>\n",
       "      <th>RAD</th>\n",
       "      <th>TAX</th>\n",
       "      <th>PTRATIO</th>\n",
       "      <th>B</th>\n",
       "      <th>LSTAT</th>\n",
       "      <th>TGT</th>\n",
       "    </tr>\n",
       "  </thead>\n",
       "  <tbody>\n",
       "    <tr>\n",
       "      <th>0</th>\n",
       "      <td>0.00632</td>\n",
       "      <td>18.0</td>\n",
       "      <td>2.31</td>\n",
       "      <td>0</td>\n",
       "      <td>0.538</td>\n",
       "      <td>6.575</td>\n",
       "      <td>65.2</td>\n",
       "      <td>4.0900</td>\n",
       "      <td>1</td>\n",
       "      <td>296.0</td>\n",
       "      <td>15.3</td>\n",
       "      <td>396.90</td>\n",
       "      <td>4.98</td>\n",
       "      <td>24.0</td>\n",
       "    </tr>\n",
       "    <tr>\n",
       "      <th>1</th>\n",
       "      <td>0.02731</td>\n",
       "      <td>0.0</td>\n",
       "      <td>7.07</td>\n",
       "      <td>0</td>\n",
       "      <td>0.469</td>\n",
       "      <td>6.421</td>\n",
       "      <td>78.9</td>\n",
       "      <td>4.9671</td>\n",
       "      <td>2</td>\n",
       "      <td>242.0</td>\n",
       "      <td>17.8</td>\n",
       "      <td>396.90</td>\n",
       "      <td>9.14</td>\n",
       "      <td>21.6</td>\n",
       "    </tr>\n",
       "    <tr>\n",
       "      <th>2</th>\n",
       "      <td>0.02729</td>\n",
       "      <td>0.0</td>\n",
       "      <td>7.07</td>\n",
       "      <td>0</td>\n",
       "      <td>0.469</td>\n",
       "      <td>7.185</td>\n",
       "      <td>61.1</td>\n",
       "      <td>4.9671</td>\n",
       "      <td>2</td>\n",
       "      <td>242.0</td>\n",
       "      <td>17.8</td>\n",
       "      <td>392.83</td>\n",
       "      <td>4.03</td>\n",
       "      <td>34.7</td>\n",
       "    </tr>\n",
       "    <tr>\n",
       "      <th>3</th>\n",
       "      <td>0.03237</td>\n",
       "      <td>0.0</td>\n",
       "      <td>2.18</td>\n",
       "      <td>0</td>\n",
       "      <td>0.458</td>\n",
       "      <td>6.998</td>\n",
       "      <td>45.8</td>\n",
       "      <td>6.0622</td>\n",
       "      <td>3</td>\n",
       "      <td>222.0</td>\n",
       "      <td>18.7</td>\n",
       "      <td>394.63</td>\n",
       "      <td>2.94</td>\n",
       "      <td>33.4</td>\n",
       "    </tr>\n",
       "    <tr>\n",
       "      <th>4</th>\n",
       "      <td>0.06905</td>\n",
       "      <td>0.0</td>\n",
       "      <td>2.18</td>\n",
       "      <td>0</td>\n",
       "      <td>0.458</td>\n",
       "      <td>7.147</td>\n",
       "      <td>54.2</td>\n",
       "      <td>6.0622</td>\n",
       "      <td>3</td>\n",
       "      <td>222.0</td>\n",
       "      <td>18.7</td>\n",
       "      <td>396.90</td>\n",
       "      <td>5.33</td>\n",
       "      <td>36.2</td>\n",
       "    </tr>\n",
       "  </tbody>\n",
       "</table>\n",
       "</div>"
      ],
      "text/plain": [
       "      CRIM    ZN  INDUS  CHAS    NOX     RM   AGE     DIS  RAD    TAX  \\\n",
       "0  0.00632  18.0   2.31     0  0.538  6.575  65.2  4.0900    1  296.0   \n",
       "1  0.02731   0.0   7.07     0  0.469  6.421  78.9  4.9671    2  242.0   \n",
       "2  0.02729   0.0   7.07     0  0.469  7.185  61.1  4.9671    2  242.0   \n",
       "3  0.03237   0.0   2.18     0  0.458  6.998  45.8  6.0622    3  222.0   \n",
       "4  0.06905   0.0   2.18     0  0.458  7.147  54.2  6.0622    3  222.0   \n",
       "\n",
       "   PTRATIO       B  LSTAT   TGT  \n",
       "0     15.3  396.90   4.98  24.0  \n",
       "1     17.8  396.90   9.14  21.6  \n",
       "2     17.8  392.83   4.03  34.7  \n",
       "3     18.7  394.63   2.94  33.4  \n",
       "4     18.7  396.90   5.33  36.2  "
      ]
     },
     "execution_count": 29,
     "metadata": {},
     "output_type": "execute_result"
    }
   ],
   "source": [
    "url = 'https://archive.ics.uci.edu/ml/machine-learning-databases/housing/housing.data'\n",
    "cols = ['CRIM','ZN','INDUS','CHAS','NOX','RM','AGE','DIS','RAD','TAX','PTRATIO','B','LSTAT','TGT']\n",
    "boston = pd.read_csv(url,sep=' ',skipinitialspace=True,header=None,names=cols,index_col=False)\n",
    "boston.head()"
   ]
  },
  {
   "cell_type": "markdown",
   "metadata": {
    "deletable": true,
    "editable": true
   },
   "source": [
    "## Aufgabe 1"
   ]
  },
  {
   "cell_type": "markdown",
   "metadata": {
    "deletable": true,
    "editable": true
   },
   "source": [
    "### a)\n",
    "Führen Sie für diesen Datensatz eine explorative Analyse wie in der Vorlesung gezeigt\n",
    "mithilfe eines IPython-Notebooks und den Paketen Pandas und Numpy durch."
   ]
  },
  {
   "cell_type": "code",
   "execution_count": 30,
   "metadata": {
    "collapsed": false,
    "deletable": true,
    "editable": true
   },
   "outputs": [
    {
     "name": "stdout",
     "output_type": "stream",
     "text": [
      "<class 'pandas.core.frame.DataFrame'>\n",
      "RangeIndex: 506 entries, 0 to 505\n",
      "Data columns (total 14 columns):\n",
      "CRIM       506 non-null float64\n",
      "ZN         506 non-null float64\n",
      "INDUS      506 non-null float64\n",
      "CHAS       506 non-null int64\n",
      "NOX        506 non-null float64\n",
      "RM         506 non-null float64\n",
      "AGE        506 non-null float64\n",
      "DIS        506 non-null float64\n",
      "RAD        506 non-null int64\n",
      "TAX        506 non-null float64\n",
      "PTRATIO    506 non-null float64\n",
      "B          506 non-null float64\n",
      "LSTAT      506 non-null float64\n",
      "TGT        506 non-null float64\n",
      "dtypes: float64(12), int64(2)\n",
      "memory usage: 55.4 KB\n",
      "None\n"
     ]
    }
   ],
   "source": [
    "print(boston.info())"
   ]
  },
  {
   "cell_type": "code",
   "execution_count": 31,
   "metadata": {
    "collapsed": false,
    "deletable": true,
    "editable": true,
    "scrolled": true
   },
   "outputs": [
    {
     "data": {
      "text/html": [
       "<div>\n",
       "<style>\n",
       "    .dataframe thead tr:only-child th {\n",
       "        text-align: right;\n",
       "    }\n",
       "\n",
       "    .dataframe thead th {\n",
       "        text-align: left;\n",
       "    }\n",
       "\n",
       "    .dataframe tbody tr th {\n",
       "        vertical-align: top;\n",
       "    }\n",
       "</style>\n",
       "<table border=\"1\" class=\"dataframe\">\n",
       "  <thead>\n",
       "    <tr style=\"text-align: right;\">\n",
       "      <th></th>\n",
       "      <th>CRIM</th>\n",
       "      <th>ZN</th>\n",
       "      <th>INDUS</th>\n",
       "      <th>CHAS</th>\n",
       "      <th>NOX</th>\n",
       "      <th>RM</th>\n",
       "      <th>AGE</th>\n",
       "      <th>DIS</th>\n",
       "      <th>RAD</th>\n",
       "      <th>TAX</th>\n",
       "      <th>PTRATIO</th>\n",
       "      <th>B</th>\n",
       "      <th>LSTAT</th>\n",
       "      <th>TGT</th>\n",
       "    </tr>\n",
       "  </thead>\n",
       "  <tbody>\n",
       "    <tr>\n",
       "      <th>count</th>\n",
       "      <td>506.000000</td>\n",
       "      <td>506.000000</td>\n",
       "      <td>506.000000</td>\n",
       "      <td>506.000000</td>\n",
       "      <td>506.000000</td>\n",
       "      <td>506.000000</td>\n",
       "      <td>506.000000</td>\n",
       "      <td>506.000000</td>\n",
       "      <td>506.000000</td>\n",
       "      <td>506.000000</td>\n",
       "      <td>506.000000</td>\n",
       "      <td>506.000000</td>\n",
       "      <td>506.000000</td>\n",
       "      <td>506.000000</td>\n",
       "    </tr>\n",
       "    <tr>\n",
       "      <th>mean</th>\n",
       "      <td>3.613524</td>\n",
       "      <td>11.363636</td>\n",
       "      <td>11.136779</td>\n",
       "      <td>0.069170</td>\n",
       "      <td>0.554695</td>\n",
       "      <td>6.284634</td>\n",
       "      <td>68.574901</td>\n",
       "      <td>3.795043</td>\n",
       "      <td>9.549407</td>\n",
       "      <td>408.237154</td>\n",
       "      <td>18.455534</td>\n",
       "      <td>356.674032</td>\n",
       "      <td>12.653063</td>\n",
       "      <td>22.532806</td>\n",
       "    </tr>\n",
       "    <tr>\n",
       "      <th>std</th>\n",
       "      <td>8.601545</td>\n",
       "      <td>23.322453</td>\n",
       "      <td>6.860353</td>\n",
       "      <td>0.253994</td>\n",
       "      <td>0.115878</td>\n",
       "      <td>0.702617</td>\n",
       "      <td>28.148861</td>\n",
       "      <td>2.105710</td>\n",
       "      <td>8.707259</td>\n",
       "      <td>168.537116</td>\n",
       "      <td>2.164946</td>\n",
       "      <td>91.294864</td>\n",
       "      <td>7.141062</td>\n",
       "      <td>9.197104</td>\n",
       "    </tr>\n",
       "    <tr>\n",
       "      <th>min</th>\n",
       "      <td>0.006320</td>\n",
       "      <td>0.000000</td>\n",
       "      <td>0.460000</td>\n",
       "      <td>0.000000</td>\n",
       "      <td>0.385000</td>\n",
       "      <td>3.561000</td>\n",
       "      <td>2.900000</td>\n",
       "      <td>1.129600</td>\n",
       "      <td>1.000000</td>\n",
       "      <td>187.000000</td>\n",
       "      <td>12.600000</td>\n",
       "      <td>0.320000</td>\n",
       "      <td>1.730000</td>\n",
       "      <td>5.000000</td>\n",
       "    </tr>\n",
       "    <tr>\n",
       "      <th>25%</th>\n",
       "      <td>0.082045</td>\n",
       "      <td>0.000000</td>\n",
       "      <td>5.190000</td>\n",
       "      <td>0.000000</td>\n",
       "      <td>0.449000</td>\n",
       "      <td>5.885500</td>\n",
       "      <td>45.025000</td>\n",
       "      <td>2.100175</td>\n",
       "      <td>4.000000</td>\n",
       "      <td>279.000000</td>\n",
       "      <td>17.400000</td>\n",
       "      <td>375.377500</td>\n",
       "      <td>6.950000</td>\n",
       "      <td>17.025000</td>\n",
       "    </tr>\n",
       "    <tr>\n",
       "      <th>50%</th>\n",
       "      <td>0.256510</td>\n",
       "      <td>0.000000</td>\n",
       "      <td>9.690000</td>\n",
       "      <td>0.000000</td>\n",
       "      <td>0.538000</td>\n",
       "      <td>6.208500</td>\n",
       "      <td>77.500000</td>\n",
       "      <td>3.207450</td>\n",
       "      <td>5.000000</td>\n",
       "      <td>330.000000</td>\n",
       "      <td>19.050000</td>\n",
       "      <td>391.440000</td>\n",
       "      <td>11.360000</td>\n",
       "      <td>21.200000</td>\n",
       "    </tr>\n",
       "    <tr>\n",
       "      <th>75%</th>\n",
       "      <td>3.677082</td>\n",
       "      <td>12.500000</td>\n",
       "      <td>18.100000</td>\n",
       "      <td>0.000000</td>\n",
       "      <td>0.624000</td>\n",
       "      <td>6.623500</td>\n",
       "      <td>94.075000</td>\n",
       "      <td>5.188425</td>\n",
       "      <td>24.000000</td>\n",
       "      <td>666.000000</td>\n",
       "      <td>20.200000</td>\n",
       "      <td>396.225000</td>\n",
       "      <td>16.955000</td>\n",
       "      <td>25.000000</td>\n",
       "    </tr>\n",
       "    <tr>\n",
       "      <th>max</th>\n",
       "      <td>88.976200</td>\n",
       "      <td>100.000000</td>\n",
       "      <td>27.740000</td>\n",
       "      <td>1.000000</td>\n",
       "      <td>0.871000</td>\n",
       "      <td>8.780000</td>\n",
       "      <td>100.000000</td>\n",
       "      <td>12.126500</td>\n",
       "      <td>24.000000</td>\n",
       "      <td>711.000000</td>\n",
       "      <td>22.000000</td>\n",
       "      <td>396.900000</td>\n",
       "      <td>37.970000</td>\n",
       "      <td>50.000000</td>\n",
       "    </tr>\n",
       "  </tbody>\n",
       "</table>\n",
       "</div>"
      ],
      "text/plain": [
       "             CRIM          ZN       INDUS        CHAS         NOX          RM  \\\n",
       "count  506.000000  506.000000  506.000000  506.000000  506.000000  506.000000   \n",
       "mean     3.613524   11.363636   11.136779    0.069170    0.554695    6.284634   \n",
       "std      8.601545   23.322453    6.860353    0.253994    0.115878    0.702617   \n",
       "min      0.006320    0.000000    0.460000    0.000000    0.385000    3.561000   \n",
       "25%      0.082045    0.000000    5.190000    0.000000    0.449000    5.885500   \n",
       "50%      0.256510    0.000000    9.690000    0.000000    0.538000    6.208500   \n",
       "75%      3.677082   12.500000   18.100000    0.000000    0.624000    6.623500   \n",
       "max     88.976200  100.000000   27.740000    1.000000    0.871000    8.780000   \n",
       "\n",
       "              AGE         DIS         RAD         TAX     PTRATIO           B  \\\n",
       "count  506.000000  506.000000  506.000000  506.000000  506.000000  506.000000   \n",
       "mean    68.574901    3.795043    9.549407  408.237154   18.455534  356.674032   \n",
       "std     28.148861    2.105710    8.707259  168.537116    2.164946   91.294864   \n",
       "min      2.900000    1.129600    1.000000  187.000000   12.600000    0.320000   \n",
       "25%     45.025000    2.100175    4.000000  279.000000   17.400000  375.377500   \n",
       "50%     77.500000    3.207450    5.000000  330.000000   19.050000  391.440000   \n",
       "75%     94.075000    5.188425   24.000000  666.000000   20.200000  396.225000   \n",
       "max    100.000000   12.126500   24.000000  711.000000   22.000000  396.900000   \n",
       "\n",
       "            LSTAT         TGT  \n",
       "count  506.000000  506.000000  \n",
       "mean    12.653063   22.532806  \n",
       "std      7.141062    9.197104  \n",
       "min      1.730000    5.000000  \n",
       "25%      6.950000   17.025000  \n",
       "50%     11.360000   21.200000  \n",
       "75%     16.955000   25.000000  \n",
       "max     37.970000   50.000000  "
      ]
     },
     "execution_count": 31,
     "metadata": {},
     "output_type": "execute_result"
    }
   ],
   "source": [
    "boston.describe()"
   ]
  },
  {
   "cell_type": "markdown",
   "metadata": {
    "deletable": true,
    "editable": true
   },
   "source": [
    "#### Aufbereitung der Daten"
   ]
  },
  {
   "cell_type": "markdown",
   "metadata": {
    "deletable": true,
    "editable": true
   },
   "source": [
    "#### Korrelation"
   ]
  },
  {
   "cell_type": "markdown",
   "metadata": {
    "deletable": true,
    "editable": true
   },
   "source": [
    "### b)\n",
    "Beantworten Sie anhand der Darstellung der Streumatrix folgende Fragen:\n",
    "Welche der Variablen sind\n",
    "kategorisch?"
   ]
  },
  {
   "cell_type": "code",
   "execution_count": 32,
   "metadata": {
    "collapsed": false,
    "deletable": true,
    "editable": true
   },
   "outputs": [
    {
     "data": {
      "text/plain": [
       "array([[<matplotlib.axes._subplots.AxesSubplot object at 0x00000264DAA44C88>,\n",
       "        <matplotlib.axes._subplots.AxesSubplot object at 0x00000264DBA40D30>,\n",
       "        <matplotlib.axes._subplots.AxesSubplot object at 0x00000264DBA5CEF0>,\n",
       "        <matplotlib.axes._subplots.AxesSubplot object at 0x00000264DBAA7080>,\n",
       "        <matplotlib.axes._subplots.AxesSubplot object at 0x00000264DBADFD30>,\n",
       "        <matplotlib.axes._subplots.AxesSubplot object at 0x00000264DBB23F60>,\n",
       "        <matplotlib.axes._subplots.AxesSubplot object at 0x00000264DBB5FB70>,\n",
       "        <matplotlib.axes._subplots.AxesSubplot object at 0x00000264DBBAC0B8>,\n",
       "        <matplotlib.axes._subplots.AxesSubplot object at 0x00000264DBB76E80>,\n",
       "        <matplotlib.axes._subplots.AxesSubplot object at 0x00000264DBC2F1D0>,\n",
       "        <matplotlib.axes._subplots.AxesSubplot object at 0x00000264DBC75400>,\n",
       "        <matplotlib.axes._subplots.AxesSubplot object at 0x00000264DBCB2128>,\n",
       "        <matplotlib.axes._subplots.AxesSubplot object at 0x00000264DBCF9358>,\n",
       "        <matplotlib.axes._subplots.AxesSubplot object at 0x00000264DBD2F978>],\n",
       "       [<matplotlib.axes._subplots.AxesSubplot object at 0x00000264DBD77DA0>,\n",
       "        <matplotlib.axes._subplots.AxesSubplot object at 0x00000264DBDB44A8>,\n",
       "        <matplotlib.axes._subplots.AxesSubplot object at 0x00000264DBDFA898>,\n",
       "        <matplotlib.axes._subplots.AxesSubplot object at 0x00000264DBE382E8>,\n",
       "        <matplotlib.axes._subplots.AxesSubplot object at 0x00000264DBE7E7F0>,\n",
       "        <matplotlib.axes._subplots.AxesSubplot object at 0x00000264DBEBB128>,\n",
       "        <matplotlib.axes._subplots.AxesSubplot object at 0x00000264DBF00710>,\n",
       "        <matplotlib.axes._subplots.AxesSubplot object at 0x00000264DBF14828>,\n",
       "        <matplotlib.axes._subplots.AxesSubplot object at 0x00000264DBF83550>,\n",
       "        <matplotlib.axes._subplots.AxesSubplot object at 0x00000264DBFCAA58>,\n",
       "        <matplotlib.axes._subplots.AxesSubplot object at 0x00000264DC0081D0>,\n",
       "        <matplotlib.axes._subplots.AxesSubplot object at 0x00000264DC0525F8>,\n",
       "        <matplotlib.axes._subplots.AxesSubplot object at 0x00000264DC08FDD8>,\n",
       "        <matplotlib.axes._subplots.AxesSubplot object at 0x00000264DC0DDF28>],\n",
       "       [<matplotlib.axes._subplots.AxesSubplot object at 0x00000264DC11EC18>,\n",
       "        <matplotlib.axes._subplots.AxesSubplot object at 0x00000264DC16DD68>,\n",
       "        <matplotlib.axes._subplots.AxesSubplot object at 0x00000264DC1B0A58>,\n",
       "        <matplotlib.axes._subplots.AxesSubplot object at 0x00000264DC1FBF28>,\n",
       "        <matplotlib.axes._subplots.AxesSubplot object at 0x00000264DC243898>,\n",
       "        <matplotlib.axes._subplots.AxesSubplot object at 0x00000264DC28ED68>,\n",
       "        <matplotlib.axes._subplots.AxesSubplot object at 0x00000264DC2A3C18>,\n",
       "        <matplotlib.axes._subplots.AxesSubplot object at 0x00000264DC31FBA8>,\n",
       "        <matplotlib.axes._subplots.AxesSubplot object at 0x00000264DC36CEB8>,\n",
       "        <matplotlib.axes._subplots.AxesSubplot object at 0x00000264DC3AE828>,\n",
       "        <matplotlib.axes._subplots.AxesSubplot object at 0x00000264DC3FDB38>,\n",
       "        <matplotlib.axes._subplots.AxesSubplot object at 0x00000264DC4416A0>,\n",
       "        <matplotlib.axes._subplots.AxesSubplot object at 0x00000264DC48E5F8>,\n",
       "        <matplotlib.axes._subplots.AxesSubplot object at 0x00000264DC4D7080>],\n",
       "       [<matplotlib.axes._subplots.AxesSubplot object at 0x00000264DC5243C8>,\n",
       "        <matplotlib.axes._subplots.AxesSubplot object at 0x00000264DC564748>,\n",
       "        <matplotlib.axes._subplots.AxesSubplot object at 0x00000264DC5B4C50>,\n",
       "        <matplotlib.axes._subplots.AxesSubplot object at 0x00000264DC5F7588>,\n",
       "        <matplotlib.axes._subplots.AxesSubplot object at 0x00000264DC644A58>,\n",
       "        <matplotlib.axes._subplots.AxesSubplot object at 0x00000264DC6883C8>,\n",
       "        <matplotlib.axes._subplots.AxesSubplot object at 0x00000264DC6D5898>,\n",
       "        <matplotlib.axes._subplots.AxesSubplot object at 0x00000264DC6EB710>,\n",
       "        <matplotlib.axes._subplots.AxesSubplot object at 0x00000264DC7656D8>,\n",
       "        <matplotlib.axes._subplots.AxesSubplot object at 0x00000264DC7B29E8>,\n",
       "        <matplotlib.axes._subplots.AxesSubplot object at 0x00000264DC7F6358>,\n",
       "        <matplotlib.axes._subplots.AxesSubplot object at 0x00000264DC844668>,\n",
       "        <matplotlib.axes._subplots.AxesSubplot object at 0x00000264DC8861D0>,\n",
       "        <matplotlib.axes._subplots.AxesSubplot object at 0x00000264DC8D5128>],\n",
       "       [<matplotlib.axes._subplots.AxesSubplot object at 0x00000264DC91AB70>,\n",
       "        <matplotlib.axes._subplots.AxesSubplot object at 0x00000264DC964EB8>,\n",
       "        <matplotlib.axes._subplots.AxesSubplot object at 0x00000264DC9AF278>,\n",
       "        <matplotlib.axes._subplots.AxesSubplot object at 0x00000264DC9FD780>,\n",
       "        <matplotlib.axes._subplots.AxesSubplot object at 0x00000264D6303320>,\n",
       "        <matplotlib.axes._subplots.AxesSubplot object at 0x00000264DA65BB38>,\n",
       "        <matplotlib.axes._subplots.AxesSubplot object at 0x00000264DC8F0C50>,\n",
       "        <matplotlib.axes._subplots.AxesSubplot object at 0x00000264D83A4F98>,\n",
       "        <matplotlib.axes._subplots.AxesSubplot object at 0x00000264D7EE64A8>,\n",
       "        <matplotlib.axes._subplots.AxesSubplot object at 0x00000264D5E249B0>,\n",
       "        <matplotlib.axes._subplots.AxesSubplot object at 0x00000264D4383D68>,\n",
       "        <matplotlib.axes._subplots.AxesSubplot object at 0x00000264CC271550>,\n",
       "        <matplotlib.axes._subplots.AxesSubplot object at 0x00000264CC2BD860>,\n",
       "        <matplotlib.axes._subplots.AxesSubplot object at 0x00000264CC3023C8>],\n",
       "       [<matplotlib.axes._subplots.AxesSubplot object at 0x00000264CC34F320>,\n",
       "        <matplotlib.axes._subplots.AxesSubplot object at 0x00000264CC391D68>,\n",
       "        <matplotlib.axes._subplots.AxesSubplot object at 0x00000264CC3E50F0>,\n",
       "        <matplotlib.axes._subplots.AxesSubplot object at 0x00000264CC429470>,\n",
       "        <matplotlib.axes._subplots.AxesSubplot object at 0x00000264CC474978>,\n",
       "        <matplotlib.axes._subplots.AxesSubplot object at 0x00000264CC4BB2B0>,\n",
       "        <matplotlib.axes._subplots.AxesSubplot object at 0x00000264CC505780>,\n",
       "        <matplotlib.axes._subplots.AxesSubplot object at 0x00000264CD51A0F0>,\n",
       "        <matplotlib.axes._subplots.AxesSubplot object at 0x00000264CD5675C0>,\n",
       "        <matplotlib.axes._subplots.AxesSubplot object at 0x00000264CD57C470>,\n",
       "        <matplotlib.axes._subplots.AxesSubplot object at 0x00000264CD5F7400>,\n",
       "        <matplotlib.axes._subplots.AxesSubplot object at 0x00000264CD646710>,\n",
       "        <matplotlib.axes._subplots.AxesSubplot object at 0x00000264CD68A080>,\n",
       "        <matplotlib.axes._subplots.AxesSubplot object at 0x00000264CD6D7390>],\n",
       "       [<matplotlib.axes._subplots.AxesSubplot object at 0x00000264CD716EB8>,\n",
       "        <matplotlib.axes._subplots.AxesSubplot object at 0x00000264CD762E10>,\n",
       "        <matplotlib.axes._subplots.AxesSubplot object at 0x00000264CD7AA898>,\n",
       "        <matplotlib.axes._subplots.AxesSubplot object at 0x00000264CD7F8BE0>,\n",
       "        <matplotlib.axes._subplots.AxesSubplot object at 0x00000264CD83CF60>,\n",
       "        <matplotlib.axes._subplots.AxesSubplot object at 0x00000264CD8904A8>,\n",
       "        <matplotlib.axes._subplots.AxesSubplot object at 0x00000264CD8CDDA0>,\n",
       "        <matplotlib.axes._subplots.AxesSubplot object at 0x00000264CD91F2B0>,\n",
       "        <matplotlib.axes._subplots.AxesSubplot object at 0x00000264CD95ABE0>,\n",
       "        <matplotlib.axes._subplots.AxesSubplot object at 0x00000264CD9B20F0>,\n",
       "        <matplotlib.axes._subplots.AxesSubplot object at 0x00000264CD9C67B8>,\n",
       "        <matplotlib.axes._subplots.AxesSubplot object at 0x00000264CDA3EEF0>,\n",
       "        <matplotlib.axes._subplots.AxesSubplot object at 0x00000264CDA90240>,\n",
       "        <matplotlib.axes._subplots.AxesSubplot object at 0x00000264CDACCB70>],\n",
       "       [<matplotlib.axes._subplots.AxesSubplot object at 0x00000264CDB19E80>,\n",
       "        <matplotlib.axes._subplots.AxesSubplot object at 0x00000264CDB5E9E8>,\n",
       "        <matplotlib.axes._subplots.AxesSubplot object at 0x00000264CDBAA940>,\n",
       "        <matplotlib.axes._subplots.AxesSubplot object at 0x00000264CDBF53C8>,\n",
       "        <matplotlib.axes._subplots.AxesSubplot object at 0x00000264CDC41710>,\n",
       "        <matplotlib.axes._subplots.AxesSubplot object at 0x00000264CDC84A90>,\n",
       "        <matplotlib.axes._subplots.AxesSubplot object at 0x00000264CDCD1F98>,\n",
       "        <matplotlib.axes._subplots.AxesSubplot object at 0x00000264CDD158D0>,\n",
       "        <matplotlib.axes._subplots.AxesSubplot object at 0x00000264CDD63DA0>,\n",
       "        <matplotlib.axes._subplots.AxesSubplot object at 0x00000264CDDA6710>,\n",
       "        <matplotlib.axes._subplots.AxesSubplot object at 0x00000264CDDF3BE0>,\n",
       "        <matplotlib.axes._subplots.AxesSubplot object at 0x00000264CDDFB320>,\n",
       "        <matplotlib.axes._subplots.AxesSubplot object at 0x00000264CDE84A20>,\n",
       "        <matplotlib.axes._subplots.AxesSubplot object at 0x00000264CDED1D30>],\n",
       "       [<matplotlib.axes._subplots.AxesSubplot object at 0x00000264CDF166A0>,\n",
       "        <matplotlib.axes._subplots.AxesSubplot object at 0x00000264CDF629B0>,\n",
       "        <matplotlib.axes._subplots.AxesSubplot object at 0x00000264CDFA5518>,\n",
       "        <matplotlib.axes._subplots.AxesSubplot object at 0x00000264CDFF5470>,\n",
       "        <matplotlib.axes._subplots.AxesSubplot object at 0x00000264CE037EB8>,\n",
       "        <matplotlib.axes._subplots.AxesSubplot object at 0x00000264CE088240>,\n",
       "        <matplotlib.axes._subplots.AxesSubplot object at 0x00000264CE0CE5C0>,\n",
       "        <matplotlib.axes._subplots.AxesSubplot object at 0x00000264CE11AAC8>,\n",
       "        <matplotlib.axes._subplots.AxesSubplot object at 0x00000264CE160400>,\n",
       "        <matplotlib.axes._subplots.AxesSubplot object at 0x00000264CE1AA8D0>,\n",
       "        <matplotlib.axes._subplots.AxesSubplot object at 0x00000264CE1F1240>,\n",
       "        <matplotlib.axes._subplots.AxesSubplot object at 0x00000264DCA40710>,\n",
       "        <matplotlib.axes._subplots.AxesSubplot object at 0x00000264DCA53E48>,\n",
       "        <matplotlib.axes._subplots.AxesSubplot object at 0x00000264DCACE550>],\n",
       "       [<matplotlib.axes._subplots.AxesSubplot object at 0x00000264DCB1C860>,\n",
       "        <matplotlib.axes._subplots.AxesSubplot object at 0x00000264DCB5F1D0>,\n",
       "        <matplotlib.axes._subplots.AxesSubplot object at 0x00000264DCBAC4E0>,\n",
       "        <matplotlib.axes._subplots.AxesSubplot object at 0x00000264DCBF2048>,\n",
       "        <matplotlib.axes._subplots.AxesSubplot object at 0x00000264DCC37F60>,\n",
       "        <matplotlib.axes._subplots.AxesSubplot object at 0x00000264DCC809E8>,\n",
       "        <matplotlib.axes._subplots.AxesSubplot object at 0x00000264DCCCED30>,\n",
       "        <matplotlib.axes._subplots.AxesSubplot object at 0x00000264DCD180F0>,\n",
       "        <matplotlib.axes._subplots.AxesSubplot object at 0x00000264DCD625F8>,\n",
       "        <matplotlib.axes._subplots.AxesSubplot object at 0x00000264DCDA1EF0>,\n",
       "        <matplotlib.axes._subplots.AxesSubplot object at 0x00000264DCDF5400>,\n",
       "        <matplotlib.axes._subplots.AxesSubplot object at 0x00000264DCE2DD30>,\n",
       "        <matplotlib.axes._subplots.AxesSubplot object at 0x00000264DCE87240>,\n",
       "        <matplotlib.axes._subplots.AxesSubplot object at 0x00000264DCE9A550>],\n",
       "       [<matplotlib.axes._subplots.AxesSubplot object at 0x00000264DCF18080>,\n",
       "        <matplotlib.axes._subplots.AxesSubplot object at 0x00000264DCF62390>,\n",
       "        <matplotlib.axes._subplots.AxesSubplot object at 0x00000264DCFA2CC0>,\n",
       "        <matplotlib.axes._subplots.AxesSubplot object at 0x00000264DCFF1FD0>,\n",
       "        <matplotlib.axes._subplots.AxesSubplot object at 0x00000264DD032B38>,\n",
       "        <matplotlib.axes._subplots.AxesSubplot object at 0x00000264DD080A90>,\n",
       "        <matplotlib.axes._subplots.AxesSubplot object at 0x00000264DE09A518>,\n",
       "        <matplotlib.axes._subplots.AxesSubplot object at 0x00000264DE0E6860>,\n",
       "        <matplotlib.axes._subplots.AxesSubplot object at 0x00000264DE129BE0>,\n",
       "        <matplotlib.axes._subplots.AxesSubplot object at 0x00000264DE17C128>,\n",
       "        <matplotlib.axes._subplots.AxesSubplot object at 0x00000264DE1BEA20>,\n",
       "        <matplotlib.axes._subplots.AxesSubplot object at 0x00000264DE208EF0>,\n",
       "        <matplotlib.axes._subplots.AxesSubplot object at 0x00000264DE24D860>,\n",
       "        <matplotlib.axes._subplots.AxesSubplot object at 0x00000264DE298D30>],\n",
       "       [<matplotlib.axes._subplots.AxesSubplot object at 0x00000264DE2AFC50>,\n",
       "        <matplotlib.axes._subplots.AxesSubplot object at 0x00000264DE329B70>,\n",
       "        <matplotlib.axes._subplots.AxesSubplot object at 0x00000264DE376E80>,\n",
       "        <matplotlib.axes._subplots.AxesSubplot object at 0x00000264DE3BC7F0>,\n",
       "        <matplotlib.axes._subplots.AxesSubplot object at 0x00000264DE408B00>,\n",
       "        <matplotlib.axes._subplots.AxesSubplot object at 0x00000264DE44D668>,\n",
       "        <matplotlib.axes._subplots.AxesSubplot object at 0x00000264DE49B5C0>,\n",
       "        <matplotlib.axes._subplots.AxesSubplot object at 0x00000264DE4E4048>,\n",
       "        <matplotlib.axes._subplots.AxesSubplot object at 0x00000264DE530390>,\n",
       "        <matplotlib.axes._subplots.AxesSubplot object at 0x00000264DE574710>,\n",
       "        <matplotlib.axes._subplots.AxesSubplot object at 0x00000264DE5C0C18>,\n",
       "        <matplotlib.axes._subplots.AxesSubplot object at 0x00000264DE607550>,\n",
       "        <matplotlib.axes._subplots.AxesSubplot object at 0x00000264DE652A20>,\n",
       "        <matplotlib.axes._subplots.AxesSubplot object at 0x00000264DE696390>],\n",
       "       [<matplotlib.axes._subplots.AxesSubplot object at 0x00000264DE6E2860>,\n",
       "        <matplotlib.axes._subplots.AxesSubplot object at 0x00000264DE6F88D0>,\n",
       "        <matplotlib.axes._subplots.AxesSubplot object at 0x00000264DE7726A0>,\n",
       "        <matplotlib.axes._subplots.AxesSubplot object at 0x00000264DE7C19B0>,\n",
       "        <matplotlib.axes._subplots.AxesSubplot object at 0x00000264DE805320>,\n",
       "        <matplotlib.axes._subplots.AxesSubplot object at 0x00000264DE851630>,\n",
       "        <matplotlib.axes._subplots.AxesSubplot object at 0x00000264DE895198>,\n",
       "        <matplotlib.axes._subplots.AxesSubplot object at 0x00000264DE8E30F0>,\n",
       "        <matplotlib.axes._subplots.AxesSubplot object at 0x00000264DE925B38>,\n",
       "        <matplotlib.axes._subplots.AxesSubplot object at 0x00000264DE973E80>,\n",
       "        <matplotlib.axes._subplots.AxesSubplot object at 0x00000264DE9BC240>,\n",
       "        <matplotlib.axes._subplots.AxesSubplot object at 0x00000264DEA09748>,\n",
       "        <matplotlib.axes._subplots.AxesSubplot object at 0x00000264DEA4F080>,\n",
       "        <matplotlib.axes._subplots.AxesSubplot object at 0x00000264DEA9A550>],\n",
       "       [<matplotlib.axes._subplots.AxesSubplot object at 0x00000264DEAD4E80>,\n",
       "        <matplotlib.axes._subplots.AxesSubplot object at 0x00000264DEB2C390>,\n",
       "        <matplotlib.axes._subplots.AxesSubplot object at 0x00000264DEB32C88>,\n",
       "        <matplotlib.axes._subplots.AxesSubplot object at 0x00000264DEBBD1D0>,\n",
       "        <matplotlib.axes._subplots.AxesSubplot object at 0x00000264DEC0A4E0>,\n",
       "        <matplotlib.axes._subplots.AxesSubplot object at 0x00000264DEC48E10>,\n",
       "        <matplotlib.axes._subplots.AxesSubplot object at 0x00000264DEC9B160>,\n",
       "        <matplotlib.axes._subplots.AxesSubplot object at 0x00000264DECD9C88>,\n",
       "        <matplotlib.axes._subplots.AxesSubplot object at 0x00000264DED25BE0>,\n",
       "        <matplotlib.axes._subplots.AxesSubplot object at 0x00000264DED6F668>,\n",
       "        <matplotlib.axes._subplots.AxesSubplot object at 0x00000264DEDBC9B0>,\n",
       "        <matplotlib.axes._subplots.AxesSubplot object at 0x00000264DEDFFD30>,\n",
       "        <matplotlib.axes._subplots.AxesSubplot object at 0x00000264DEE52278>,\n",
       "        <matplotlib.axes._subplots.AxesSubplot object at 0x00000264DEE91B70>]], dtype=object)"
      ]
     },
     "execution_count": 32,
     "metadata": {},
     "output_type": "execute_result"
    }
   ],
   "source": [
    "pd.plotting.scatter_matrix(boston, figsize=(20,20), marker=\"n\")"
   ]
  },
  {
   "cell_type": "markdown",
   "metadata": {
    "deletable": true,
    "editable": true
   },
   "source": [
    "Welche der Variablen eignen sich gut zur Vorhersage des Hauspreises und\n",
    "warum?"
   ]
  },
  {
   "cell_type": "code",
   "execution_count": null,
   "metadata": {
    "collapsed": true,
    "deletable": true,
    "editable": true
   },
   "outputs": [],
   "source": []
  },
  {
   "cell_type": "markdown",
   "metadata": {
    "deletable": true,
    "editable": true
   },
   "source": [
    "Welche dieser Variablen sind miteinander korreliert?"
   ]
  },
  {
   "cell_type": "code",
   "execution_count": null,
   "metadata": {
    "collapsed": true,
    "deletable": true,
    "editable": true
   },
   "outputs": [],
   "source": []
  },
  {
   "cell_type": "markdown",
   "metadata": {
    "deletable": true,
    "editable": true
   },
   "source": [
    "Welche sind daher Kandidaten,\n",
    "die man evtl. weglassen könnte?"
   ]
  },
  {
   "cell_type": "code",
   "execution_count": null,
   "metadata": {
    "collapsed": true,
    "deletable": true,
    "editable": true
   },
   "outputs": [],
   "source": []
  },
  {
   "cell_type": "markdown",
   "metadata": {
    "deletable": true,
    "editable": true
   },
   "source": [
    "### c) ????"
   ]
  },
  {
   "cell_type": "markdown",
   "metadata": {
    "deletable": true,
    "editable": true
   },
   "source": [
    "## Aufgabe 2"
   ]
  },
  {
   "cell_type": "markdown",
   "metadata": {
    "deletable": true,
    "editable": true
   },
   "source": [
    "### a)\n",
    "Laden Sie die Datenbank als zip-File aus Moodle herunter und lesen Sie dieses File direkt\n",
    "in ein neues Notebook ein. Die bisher verwendete Pandas-Methode read_csv() funktioniert\n",
    "für JSON-Files leider nicht. Das heruntergeladene File wird stattdessen mithilfe des Py-\n",
    "thonmoduls zipfile entpackt und dem Python-Befehl open() eingelesen. Die Umwandlung\n",
    "des JSON-Formates in ein geeignetes Python-Format erfolgt mit einem weiteren Modul der\n",
    "Python-Standardlibrary, json, hier mithilfe der Funktion json.load(). Lesen Sie dazu die\n",
    "zugehörigen, auf dem Web bzw. Stackoverflow verfügbaren Anleitungen."
   ]
  },
  {
   "cell_type": "code",
   "execution_count": 33,
   "metadata": {
    "collapsed": false,
    "deletable": true,
    "editable": true
   },
   "outputs": [
    {
     "ename": "TypeError",
     "evalue": "the JSON object must be str, not 'bytes'",
     "output_type": "error",
     "traceback": [
      "\u001b[1;31m---------------------------------------------------------------------------\u001b[0m",
      "\u001b[1;31mTypeError\u001b[0m                                 Traceback (most recent call last)",
      "\u001b[1;32m<ipython-input-33-e3f6b80ea10f>\u001b[0m in \u001b[0;36m<module>\u001b[1;34m()\u001b[0m\n\u001b[0;32m      4\u001b[0m \u001b[0mzf\u001b[0m \u001b[1;33m=\u001b[0m \u001b[0mzipfile\u001b[0m\u001b[1;33m.\u001b[0m\u001b[0mZipFile\u001b[0m\u001b[1;33m(\u001b[0m\u001b[1;34m\"./foods-2011-10-03.json.zip\"\u001b[0m\u001b[1;33m)\u001b[0m\u001b[1;33m\u001b[0m\u001b[0m\n\u001b[0;32m      5\u001b[0m \u001b[1;32mwith\u001b[0m \u001b[0mzf\u001b[0m\u001b[1;33m.\u001b[0m\u001b[0mopen\u001b[0m\u001b[1;33m(\u001b[0m\u001b[0mzf\u001b[0m\u001b[1;33m.\u001b[0m\u001b[0mnamelist\u001b[0m\u001b[1;33m(\u001b[0m\u001b[1;33m)\u001b[0m\u001b[1;33m[\u001b[0m\u001b[1;36m0\u001b[0m\u001b[1;33m]\u001b[0m\u001b[1;33m)\u001b[0m \u001b[1;32mas\u001b[0m \u001b[0mf\u001b[0m\u001b[1;33m:\u001b[0m\u001b[1;33m\u001b[0m\u001b[0m\n\u001b[1;32m----> 6\u001b[1;33m     \u001b[0mdata\u001b[0m \u001b[1;33m=\u001b[0m \u001b[0mjson\u001b[0m\u001b[1;33m.\u001b[0m\u001b[0mload\u001b[0m\u001b[1;33m(\u001b[0m\u001b[0mf\u001b[0m\u001b[1;33m)\u001b[0m\u001b[1;33m\u001b[0m\u001b[0m\n\u001b[0m\u001b[0;32m      7\u001b[0m \u001b[1;33m\u001b[0m\u001b[0m\n\u001b[0;32m      8\u001b[0m \u001b[0mfoods\u001b[0m \u001b[1;33m=\u001b[0m \u001b[0mpd\u001b[0m\u001b[1;33m.\u001b[0m\u001b[0mDataFrame\u001b[0m\u001b[1;33m(\u001b[0m\u001b[0mdata\u001b[0m\u001b[1;33m)\u001b[0m\u001b[1;33m\u001b[0m\u001b[0m\n",
      "\u001b[1;32mC:\\Users\\Marius Degen\\AppData\\Local\\Enthought\\Canopy\\edm\\envs\\User\\lib\\json\\__init__.py\u001b[0m in \u001b[0;36mload\u001b[1;34m(fp, cls, object_hook, parse_float, parse_int, parse_constant, object_pairs_hook, **kw)\u001b[0m\n\u001b[0;32m    266\u001b[0m         \u001b[0mcls\u001b[0m\u001b[1;33m=\u001b[0m\u001b[0mcls\u001b[0m\u001b[1;33m,\u001b[0m \u001b[0mobject_hook\u001b[0m\u001b[1;33m=\u001b[0m\u001b[0mobject_hook\u001b[0m\u001b[1;33m,\u001b[0m\u001b[1;33m\u001b[0m\u001b[0m\n\u001b[0;32m    267\u001b[0m         \u001b[0mparse_float\u001b[0m\u001b[1;33m=\u001b[0m\u001b[0mparse_float\u001b[0m\u001b[1;33m,\u001b[0m \u001b[0mparse_int\u001b[0m\u001b[1;33m=\u001b[0m\u001b[0mparse_int\u001b[0m\u001b[1;33m,\u001b[0m\u001b[1;33m\u001b[0m\u001b[0m\n\u001b[1;32m--> 268\u001b[1;33m         parse_constant=parse_constant, object_pairs_hook=object_pairs_hook, **kw)\n\u001b[0m\u001b[0;32m    269\u001b[0m \u001b[1;33m\u001b[0m\u001b[0m\n\u001b[0;32m    270\u001b[0m \u001b[1;33m\u001b[0m\u001b[0m\n",
      "\u001b[1;32mC:\\Users\\Marius Degen\\AppData\\Local\\Enthought\\Canopy\\edm\\envs\\User\\lib\\json\\__init__.py\u001b[0m in \u001b[0;36mloads\u001b[1;34m(s, encoding, cls, object_hook, parse_float, parse_int, parse_constant, object_pairs_hook, **kw)\u001b[0m\n\u001b[0;32m    310\u001b[0m     \u001b[1;32mif\u001b[0m \u001b[1;32mnot\u001b[0m \u001b[0misinstance\u001b[0m\u001b[1;33m(\u001b[0m\u001b[0ms\u001b[0m\u001b[1;33m,\u001b[0m \u001b[0mstr\u001b[0m\u001b[1;33m)\u001b[0m\u001b[1;33m:\u001b[0m\u001b[1;33m\u001b[0m\u001b[0m\n\u001b[0;32m    311\u001b[0m         raise TypeError('the JSON object must be str, not {!r}'.format(\n\u001b[1;32m--> 312\u001b[1;33m                             s.__class__.__name__))\n\u001b[0m\u001b[0;32m    313\u001b[0m     \u001b[1;32mif\u001b[0m \u001b[0ms\u001b[0m\u001b[1;33m.\u001b[0m\u001b[0mstartswith\u001b[0m\u001b[1;33m(\u001b[0m\u001b[1;34mu'\\ufeff'\u001b[0m\u001b[1;33m)\u001b[0m\u001b[1;33m:\u001b[0m\u001b[1;33m\u001b[0m\u001b[0m\n\u001b[0;32m    314\u001b[0m         raise JSONDecodeError(\"Unexpected UTF-8 BOM (decode using utf-8-sig)\",\n",
      "\u001b[1;31mTypeError\u001b[0m: the JSON object must be str, not 'bytes'"
     ]
    }
   ],
   "source": [
    "import json\n",
    "import zipfile\n",
    "import os\n",
    "zf = zipfile.ZipFile(\"./foods-2011-10-03.json.zip\")\n",
    "with zf.open(zf.namelist()[0]) as f:\n",
    "    data = json.load(f)\n",
    "    \n",
    "foods = pd.DataFrame(data)"
   ]
  },
  {
   "cell_type": "markdown",
   "metadata": {
    "deletable": true,
    "editable": true
   },
   "source": [
    "### b)\n",
    "Die Datenbank steht nun in Form einer Liste aus 6636 Python-Dictionaries zu Verfügung.\n",
    "Jedes Dictionary enthält Angaben zu einem Nahrungsmittel. Greifen Sie sich ein beliebiges\n",
    "Nahrungsmittel heraus und lassen sich die Namen der Einträge mit der Methode dict.keys()\n",
    "anzeigen. Einer der Einträge enthält die enthaltenen Nährstoffe (’nutrients’), ebenfalls als\n",
    "Dictionary. Lassen Sie sich wiederum einen beliebigen Eintrag der Nährstoffliste anzeigen.\n",
    "Es sollte auffallen, dass manche Feldnamen doppelt vorkommen."
   ]
  },
  {
   "cell_type": "code",
   "execution_count": null,
   "metadata": {
    "collapsed": false,
    "deletable": true,
    "editable": true
   },
   "outputs": [],
   "source": [
    "foods[1]"
   ]
  },
  {
   "cell_type": "code",
   "execution_count": null,
   "metadata": {
    "collapsed": false,
    "deletable": true,
    "editable": true
   },
   "outputs": [],
   "source": [
    "foods[1].keys()"
   ]
  },
  {
   "cell_type": "code",
   "execution_count": null,
   "metadata": {
    "collapsed": false,
    "deletable": true,
    "editable": true
   },
   "outputs": [],
   "source": [
    "foods[1][\"nutrients\"][1]"
   ]
  },
  {
   "cell_type": "markdown",
   "metadata": {
    "deletable": true,
    "editable": true
   },
   "source": [
    "-> Der Feldname \"groups\" kommt beispielsweise doppelt vor!"
   ]
  },
  {
   "cell_type": "markdown",
   "metadata": {
    "deletable": true,
    "editable": true
   },
   "source": [
    "Teile dieser hierarchischen Struktur sollen nun in eine einheitliche Tabelle umgewandelt\n",
    "werden, um eine explorative Analyse durchführen zu können.\n",
    "Vorgehensweise:\n",
    "- Kopieren Sie zunächst die Felder ’description’,’group’,’id’,’manufacturer’ in einen eigenen DataFrame info, sowie alle Nährstofflisten in ein Array von DataFrames, wobei Sie an jeden DataFrame die entsprechende ID des Nahrungsmittels als eigene Spalte anhängen.\n",
    "- Dieses Array wird mithilfe der Funktion pandas.concat() zu einem großen DataFrame nutrients (389355 Einträge) vereinigt.\n",
    "- Entfernen Sie alle Duplikate aus diesem DataFrame.\n",
    "- Bevor beide DataFrames vereinigt werden können, gibt es noch ein Problem: beide enthalten Felder mit dem Namen ’description’ und ’group’ (s.o.). Benennen Sie diese daher mithilfe von DataFrame.rename() in eindeutige Namen um.\n",
    "- Vereinigen Sie beide DataFrames mit pandas.merge(nutrients, info, on=’id’, how=’outer’) anhand der Nahrungsmittel-ID. \n",
    "\n",
    "Überprüfen Sie das Ergebnis jeder Manipulation mit DataFrame.head()."
   ]
  },
  {
   "cell_type": "code",
   "execution_count": null,
   "metadata": {
    "collapsed": false,
    "deletable": true,
    "editable": true
   },
   "outputs": [],
   "source": [
    "info_data = {'description':[],'group':[],'id':[],'manufacturer':[]}\n",
    "nutrients = []\n",
    "\n",
    "for food in foods:\n",
    "    info_data['description'].append(food['description'])\n",
    "    info_data['group'].append(food['group'])\n",
    "    info_data['id'].append(food['id'])\n",
    "    info_data['manufacturer'].append(food['manufacturer'])\n",
    "    \n",
    "    nutrition_data = {'id': [], 'value': [], 'units': [], 'description': [], 'group': []}\n",
    "    \n",
    "    for nutrien in food['nutrients']:\n",
    "        nutrition_data['id'].append(food['id'])\n",
    "        nutrition_data['value'].append(nutrien['value'])\n",
    "        nutrition_data['units'].append(nutrien['units'])\n",
    "        nutrition_data['description'].append(nutrien['description'])\n",
    "        nutrition_data['group'].append(nutrien['group'])\n",
    "    \n",
    "    nutrients.append(pd.DataFrame(nutrition_data))\n",
    "    \n",
    "df_info = pd.DataFrame(info_data)\n",
    "display(df_info.head())\n",
    "df_info = df_info.rename(columns={'description':'food_description', 'group':'food_group'})\n",
    "display(df_info.head())\n",
    "df_nutrients = pd.concat(nutrients)\n",
    "display(df_nutrients.head())\n",
    "df_nutrients = df_nutrients.drop_duplicates()\n",
    "display(df_nutrients.head())\n",
    "df_nutrients = df_nutrients.rename(columns={'description':'nutri_description', 'group':'nutri_group'})\n",
    "display(df_nutrients.head())\n",
    "merge = pd.merge(df_nutrients, df_info, on='id', how='outer')\n",
    "display(merge)"
   ]
  },
  {
   "cell_type": "markdown",
   "metadata": {
    "deletable": true,
    "editable": true
   },
   "source": [
    "### c)\n",
    "Nun sind die Daten bereit für die Untersuchung auf das Spurenelement Zink (Feldname:\n",
    "’Zinc, Zn’). Lesen Sie dazu alle Tabelleneinträge mithilfe einer geeigneten Indizierung\n",
    "in einen DataFrame aus, der nur Einträge zum Nährstoff Zink enthält."
   ]
  },
  {
   "cell_type": "code",
   "execution_count": null,
   "metadata": {
    "collapsed": false,
    "deletable": true,
    "editable": true,
    "scrolled": true
   },
   "outputs": [],
   "source": [
    "df_zink = merge[(merge.nutri_description == \"Zinc, Zn\")]\n",
    "display(df_zink.head())"
   ]
  },
  {
   "cell_type": "markdown",
   "metadata": {
    "deletable": true,
    "editable": true
   },
   "source": [
    "Daraus wählen\n",
    "Sie wiederum die Spalte mit dem Zinkgehalt in mg (’value’) aus und stellen dafür ein\n",
    "Histogramm und eine Liste deskriptiver Statistiken dar."
   ]
  },
  {
   "cell_type": "code",
   "execution_count": null,
   "metadata": {
    "collapsed": false,
    "deletable": true,
    "editable": true
   },
   "outputs": [],
   "source": [
    "import matplotlib.pyplot as plt\n",
    "df_grouped_mean_zink = df_zink.groupby([\"food_group\"]).mean()\n",
    "display(df_grouped_mean_zink.hist(column=\"value\", bins=df_grouped_mean_zink.size))\n",
    "#df_zink.food_group.drop_duplicates()\n",
    "df_zink.describe()"
   ]
  },
  {
   "cell_type": "markdown",
   "metadata": {
    "deletable": true,
    "editable": true
   },
   "source": [
    "Finden Sie in Ihrer Tabelle Edamer\n",
    "(’Cheese, edam’). Hat Edamer einen überdurchschnittlichen Zinkgehalt?"
   ]
  },
  {
   "cell_type": "code",
   "execution_count": null,
   "metadata": {
    "collapsed": false,
    "deletable": true,
    "editable": true
   },
   "outputs": [],
   "source": [
    "df_cheese = df_zink[(df_zink.food_description == \"Cheese, edam\")]\n",
    "zink_mean = df_zink[\"value\"].mean()\n",
    "zink_cheese = df_cheese.iloc[0][\"value\"]\n",
    "print(\"Zink gehalt von Cheese, edam:\", zink_cheese)\n",
    "print(\"Durschnittlicher Zink gehalt:\", zink_mean)\n",
    "print(\"Hat Edammer einen überdurchschnittlichen Zinkgehalt? \", zink_cheese >= zink_mean)"
   ]
  },
  {
   "cell_type": "markdown",
   "metadata": {
    "deletable": true,
    "editable": true
   },
   "source": [
    "Haben mehr als 75% aller Nahrungsmittel einen kleineren Zinkgehalt?"
   ]
  },
  {
   "cell_type": "code",
   "execution_count": null,
   "metadata": {
    "collapsed": false,
    "deletable": true,
    "editable": true
   },
   "outputs": [],
   "source": [
    "print(df_zink.quantile(0.75).value < zink_cheese)"
   ]
  },
  {
   "cell_type": "markdown",
   "metadata": {
    "deletable": true,
    "editable": true
   },
   "source": [
    "Welches Nahrungsmittel hat den\n",
    "maximalen Zinkgehalt?"
   ]
  },
  {
   "cell_type": "code",
   "execution_count": null,
   "metadata": {
    "collapsed": false,
    "deletable": true,
    "editable": true
   },
   "outputs": [],
   "source": [
    "print(df_zink.loc[df_zink[\"value\"].idxmax()].food_description)"
   ]
  }
 ],
 "metadata": {
  "kernelspec": {
   "display_name": "Python 3",
   "language": "python",
   "name": "python3"
  },
  "language_info": {
   "codemirror_mode": {
    "name": "ipython",
    "version": 3
   },
   "file_extension": ".py",
   "mimetype": "text/x-python",
   "name": "python",
   "nbconvert_exporter": "python",
   "pygments_lexer": "ipython3",
   "version": "3.5.2"
  }
 },
 "nbformat": 4,
 "nbformat_minor": 2
}
