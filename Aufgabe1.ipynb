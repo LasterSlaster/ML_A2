{
 "cells": [
  {
   "cell_type": "markdown",
   "metadata": {},
   "source": [
    "# Übung 1"
   ]
  },
  {
   "cell_type": "code",
   "execution_count": null,
   "metadata": {},
   "outputs": [],
   "source": [
    "import pandas as pd\n",
    "import numpy as np\n",
    "from IPython.display import display"
   ]
  },
  {
   "cell_type": "code",
   "execution_count": null,
   "metadata": {},
   "outputs": [],
   "source": [
    "url = 'https://archive.ics.uci.edu/ml/machine-learning-databases/housing/housing.data'\n",
    "cols = ['CRIM','ZN','INDUS','CHAS','NOX','RM','AGE','DIS','RAD','TAX','PTRATIO','B','LSTAT','TGT']\n",
    "boston = pd.read_csv(url,sep=' ',skipinitialspace=True,header=None,names=cols,index_col=False)\n",
    "boston.head()"
   ]
  },
  {
   "cell_type": "markdown",
   "metadata": {},
   "source": [
    "## Aufgabe 1"
   ]
  },
  {
   "cell_type": "markdown",
   "metadata": {},
   "source": [
    "### a)\n",
    "Führen Sie für diesen Datensatz eine explorative Analyse wie in der Vorlesung gezeigt\n",
    "mithilfe eines IPython-Notebooks und den Paketen Pandas und Numpy durch."
   ]
  },
  {
   "cell_type": "code",
   "execution_count": null,
   "metadata": {},
   "outputs": [],
   "source": [
    "print(boston.info())"
   ]
  },
  {
   "cell_type": "code",
   "execution_count": null,
   "metadata": {
    "scrolled": true
   },
   "outputs": [],
   "source": [
    "boston.describe()"
   ]
  },
  {
   "cell_type": "markdown",
   "metadata": {},
   "source": [
    "#### Aufbereitung der Daten"
   ]
  },
  {
   "cell_type": "markdown",
   "metadata": {},
   "source": [
    "#### Korrelation"
   ]
  },
  {
   "cell_type": "markdown",
   "metadata": {},
   "source": [
    "### b)\n",
    "Beantworten Sie anhand der Darstellung der Streumatrix folgende Fragen:\n",
    "Welche der Variablen sind\n",
    "kategorisch?\n",
    "\n",
    "\n",
    "1. CHAS ist kategorisch (nur 0 oder 1)\n",
    "2. RAD ist kategorisch (Index von 1 bis 24)"
   ]
  },
  {
   "cell_type": "code",
   "execution_count": null,
   "metadata": {},
   "outputs": [],
   "source": [
    "pd.plotting.scatter_matrix(boston, figsize=(20,20), marker='o');"
   ]
  },
  {
   "cell_type": "markdown",
   "metadata": {},
   "source": [
    "Welche der Variablen eignen sich gut zur Vorhersage des Hauspreises und\n",
    "warum?"
   ]
  },
  {
   "cell_type": "code",
   "execution_count": null,
   "metadata": {},
   "outputs": [],
   "source": [
    "boston.corr()"
   ]
  },
  {
   "cell_type": "markdown",
   "metadata": {},
   "source": [
    "1. LSTAT (neg. korreliert)\n",
    "2. RM (pos. korreliert)\n",
    "3. PTRATIO ( neg. korreliert)\n",
    "4. INDUS (neg. korreliert)\n",
    "5. TAX (neg. korreliert)\n",
    "6. NOX (neg. korreliert)"
   ]
  },
  {
   "cell_type": "markdown",
   "metadata": {},
   "source": [
    "Welche dieser Variablen sind miteinander korreliert?"
   ]
  },
  {
   "cell_type": "markdown",
   "metadata": {},
   "source": [
    "1. LSTAT: RM (-0.61), INDUS (0.60), NOX (0.59)\n",
    "2. RM: LSTAT (-0.61)\n",
    "3. PTRATIO: -\n",
    "4. INDUS: LSTAT (0.60), TAX (0.72), NOX (0.76)\n",
    "5. TAX: INDUS (0.72), NOX (0.67)\n",
    "6. NOX: LSTAT (0.59), INDUS (0.76), TAX (0.67)"
   ]
  },
  {
   "cell_type": "markdown",
   "metadata": {},
   "source": [
    "Welche sind daher Kandidaten,\n",
    "die man evtl. weglassen könnte?"
   ]
  },
  {
   "cell_type": "markdown",
   "metadata": {},
   "source": [
    "1. INDUS\n",
    "2. NOX\n",
    "3. (RM)"
   ]
  },
  {
   "cell_type": "markdown",
   "metadata": {},
   "source": [
    "### c)  Dokumentation der eingesetzten Systemkonfiguration und Paketversionen\n",
    "Dient dazu ein Mindestmaß an Reproduzierbarkeit sicherzustellen. (Packet in anaconda prompt installiert mit: conda install -c conda-forge version_information)"
   ]
  },
  {
   "cell_type": "code",
   "execution_count": null,
   "metadata": {},
   "outputs": [],
   "source": [
    "%reload_ext version_information\n",
    "%version_information\n",
    "%version_information numpy , pandas"
   ]
  },
  {
   "cell_type": "markdown",
   "metadata": {},
   "source": [
    "## Aufgabe 2"
   ]
  },
  {
   "cell_type": "markdown",
   "metadata": {},
   "source": [
    "### a)\n",
    "Laden Sie die Datenbank als zip-File aus Moodle herunter und lesen Sie dieses File direkt\n",
    "in ein neues Notebook ein. Die bisher verwendete Pandas-Methode read_csv() funktioniert\n",
    "für JSON-Files leider nicht. Das heruntergeladene File wird stattdessen mithilfe des Py-\n",
    "thonmoduls zipfile entpackt und dem Python-Befehl open() eingelesen. Die Umwandlung\n",
    "des JSON-Formates in ein geeignetes Python-Format erfolgt mit einem weiteren Modul der\n",
    "Python-Standardlibrary, json, hier mithilfe der Funktion json.load(). Lesen Sie dazu die\n",
    "zugehörigen, auf dem Web bzw. Stackoverflow verfügbaren Anleitungen."
   ]
  },
  {
   "cell_type": "code",
   "execution_count": null,
   "metadata": {},
   "outputs": [],
   "source": [
    "import json\n",
    "import zipfile\n",
    "import os\n",
    "zf = zipfile.ZipFile(\"./foods-2011-10-03.json.zip\")\n",
    "with zf.open(zf.namelist()[0]) as f:\n",
    "    data = json.load(f)\n",
    "    \n",
    "foods = pd.DataFrame(data)"
   ]
  },
  {
   "cell_type": "markdown",
   "metadata": {},
   "source": [
    "### b)\n",
    "Die Datenbank steht nun in Form einer Liste aus 6636 Python-Dictionaries zu Verfügung.\n",
    "Jedes Dictionary enthält Angaben zu einem Nahrungsmittel. Greifen Sie sich ein beliebiges\n",
    "Nahrungsmittel heraus und lassen sich die Namen der Einträge mit der Methode dict.keys()\n",
    "anzeigen. Einer der Einträge enthält die enthaltenen Nährstoffe (’nutrients’), ebenfalls als\n",
    "Dictionary. Lassen Sie sich wiederum einen beliebigen Eintrag der Nährstoffliste anzeigen.\n",
    "Es sollte auffallen, dass manche Feldnamen doppelt vorkommen."
   ]
  },
  {
   "cell_type": "code",
   "execution_count": null,
   "metadata": {
    "scrolled": true
   },
   "outputs": [],
   "source": [
    "foods.head()"
   ]
  },
  {
   "cell_type": "code",
   "execution_count": null,
   "metadata": {},
   "outputs": [],
   "source": [
    "foods.loc[[0]]"
   ]
  },
  {
   "cell_type": "code",
   "execution_count": null,
   "metadata": {},
   "outputs": [],
   "source": [
    "foods.loc[[0]].keys()"
   ]
  },
  {
   "cell_type": "code",
   "execution_count": null,
   "metadata": {},
   "outputs": [],
   "source": [
    "foods.loc[0][\"nutrients\"][0]"
   ]
  },
  {
   "cell_type": "markdown",
   "metadata": {},
   "source": [
    "-> Der Feldname \"groups\" oder \"description\" kommt beispielsweise doppelt vor!"
   ]
  },
  {
   "cell_type": "markdown",
   "metadata": {},
   "source": [
    "Teile dieser hierarchischen Struktur sollen nun in eine einheitliche Tabelle umgewandelt\n",
    "werden, um eine explorative Analyse durchführen zu können.\n",
    "Vorgehensweise:\n",
    "- Kopieren Sie zunächst die Felder ’description’,’group’,’id’,’manufacturer’ in einen eigenen DataFrame info, sowie alle Nährstofflisten in ein Array von DataFrames, wobei Sie an jeden DataFrame die entsprechende ID des Nahrungsmittels als eigene Spalte anhängen.\n",
    "- Dieses Array wird mithilfe der Funktion pandas.concat() zu einem großen DataFrame nutrients (389355 Einträge) vereinigt.\n",
    "- Entfernen Sie alle Duplikate aus diesem DataFrame.\n",
    "- Bevor beide DataFrames vereinigt werden können, gibt es noch ein Problem: beide enthalten Felder mit dem Namen ’description’ und ’group’ (s.o.). Benennen Sie diese daher mithilfe von DataFrame.rename() in eindeutige Namen um.\n",
    "- Vereinigen Sie beide DataFrames mit pandas.merge(nutrients, info, on=’id’, how=’outer’) anhand der Nahrungsmittel-ID. \n",
    "\n",
    "Überprüfen Sie das Ergebnis jeder Manipulation mit DataFrame.head()."
   ]
  },
  {
   "cell_type": "code",
   "execution_count": null,
   "metadata": {},
   "outputs": [],
   "source": [
    "info_data = {'description':[],'group':[],'id':[],'manufacturer':[]}\n",
    "nutrients_data = {'id': [], 'value': [], 'units': [], 'description': [], 'group': []}\n",
    "\n",
    "food = 0\n",
    "while food <= 6635:\n",
    "    info_data[\"description\"].append(foods.loc[food].description)\n",
    "    info_data[\"group\"].append(foods.loc[food].group)\n",
    "    info_data[\"id\"].append(foods.loc[food].id)\n",
    "    info_data[\"manufacturer\"].append(foods.loc[food].manufacturer)\n",
    "    \n",
    "    food_id = foods.loc[food].id\n",
    "    for nutrient in foods.loc[food].nutrients:\n",
    "        nutrients_data[\"id\"].append(food_id)\n",
    "        nutrients_data[\"value\"].append(nutrient[\"value\"])\n",
    "        nutrients_data[\"units\"].append(nutrient[\"units\"])\n",
    "        nutrients_data[\"description\"].append(nutrient[\"description\"])\n",
    "        nutrients_data[\"group\"].append(nutrient[\"group\"])\n",
    "    food = food + 1"
   ]
  },
  {
   "cell_type": "code",
   "execution_count": null,
   "metadata": {},
   "outputs": [],
   "source": [
    "df_info = pd.DataFrame(info_data)\n",
    "display(df_info.head())\n",
    "\n",
    "df_info = df_info.rename(columns={'description':'food_description', 'group':'food_group'})\n",
    "display(df_info.head())\n",
    "\n",
    "df_nutrients = pd.DataFrame(nutrients_data)\n",
    "display(df_nutrients.head())\n",
    "\n",
    "df_nutrients = df_nutrients.rename(columns={'description':'nutri_description', 'group':'nutri_group'})\n",
    "display(df_nutrients.head())\n",
    "\n",
    "df_nutrients = df_nutrients.drop_duplicates()\n",
    "display(df_nutrients.head())\n",
    "\n",
    "merge = pd.merge(df_nutrients, df_info, on='id', how='outer')\n",
    "display(merge)"
   ]
  },
  {
   "cell_type": "markdown",
   "metadata": {},
   "source": [
    "### c)\n",
    "Nun sind die Daten bereit für die Untersuchung auf das Spurenelement Zink (Feldname:\n",
    "’Zinc, Zn’). Lesen Sie dazu alle Tabelleneinträge mithilfe einer geeigneten Indizierung\n",
    "in einen DataFrame aus, der nur Einträge zum Nährstoff Zink enthält."
   ]
  },
  {
   "cell_type": "code",
   "execution_count": null,
   "metadata": {
    "scrolled": true
   },
   "outputs": [],
   "source": [
    "df_zink = merge[(merge.nutri_description == \"Zinc, Zn\")]\n",
    "display(df_zink.head())"
   ]
  },
  {
   "cell_type": "markdown",
   "metadata": {},
   "source": [
    "Daraus wählen\n",
    "Sie wiederum die Spalte mit dem Zinkgehalt in mg (’value’) aus und stellen dafür ein\n",
    "Histogramm und eine Liste deskriptiver Statistiken dar."
   ]
  },
  {
   "cell_type": "code",
   "execution_count": null,
   "metadata": {},
   "outputs": [],
   "source": [
    "import matplotlib.pyplot as plt\n",
    "df_grouped_mean_zink = df_zink.groupby([\"food_group\"]).mean()\n",
    "display(df_grouped_mean_zink.hist(column=\"value\", bins=df_grouped_mean_zink.size))\n",
    "\n",
    "df_zink_sorted = df_zink.sort_values(\"value\")\n",
    "display(df_zink_sorted.head())\n",
    "\n",
    "display(df_zink_sorted.hist(column=\"value\", bins=100))\n",
    "df_zink.describe()"
   ]
  },
  {
   "cell_type": "markdown",
   "metadata": {},
   "source": [
    "Finden Sie in Ihrer Tabelle Edamer\n",
    "(’Cheese, edam’). Hat Edamer einen überdurchschnittlichen Zinkgehalt?"
   ]
  },
  {
   "cell_type": "code",
   "execution_count": null,
   "metadata": {},
   "outputs": [],
   "source": [
    "df_cheese = df_zink[(df_zink.food_description == \"Cheese, edam\")]\n",
    "zink_mean = df_zink[\"value\"].mean()\n",
    "zink_cheese = df_cheese.iloc[0][\"value\"]\n",
    "print(\"Zink gehalt von Cheese, edam:\", zink_cheese)\n",
    "print(\"Durschnittlicher Zink gehalt:\", zink_mean)\n",
    "print(\"Hat Edammer einen überdurchschnittlichen Zinkgehalt? \", zink_cheese >= zink_mean)"
   ]
  },
  {
   "cell_type": "markdown",
   "metadata": {},
   "source": [
    "Haben mehr als 75% aller Nahrungsmittel einen kleineren Zinkgehalt?"
   ]
  },
  {
   "cell_type": "code",
   "execution_count": null,
   "metadata": {},
   "outputs": [],
   "source": [
    "print(df_zink.quantile(0.75).value < zink_cheese)"
   ]
  },
  {
   "cell_type": "markdown",
   "metadata": {},
   "source": [
    "Welches Nahrungsmittel hat den\n",
    "maximalen Zinkgehalt?"
   ]
  },
  {
   "cell_type": "code",
   "execution_count": null,
   "metadata": {},
   "outputs": [],
   "source": [
    "print(df_zink.loc[df_zink[\"value\"].idxmax()].food_description)"
   ]
  }
 ],
 "metadata": {
  "kernelspec": {
   "display_name": "Python 3",
   "language": "python",
   "name": "python3"
  },
  "language_info": {
   "codemirror_mode": {
    "name": "ipython",
    "version": 3
   },
   "file_extension": ".py",
   "mimetype": "text/x-python",
   "name": "python",
   "nbconvert_exporter": "python",
   "pygments_lexer": "ipython3",
   "version": "3.8.5"
  }
 },
 "nbformat": 4,
 "nbformat_minor": 2
}
