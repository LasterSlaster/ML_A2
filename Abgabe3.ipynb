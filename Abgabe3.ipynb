{
 "cells": [
  {
   "cell_type": "code",
   "execution_count": null,
   "metadata": {},
   "outputs": [],
   "source": [
    "import pandas as pd\n",
    "import numpy as np\n",
    "import tarfile as tar\n",
    "import re"
   ]
  },
  {
   "cell_type": "code",
   "execution_count": null,
   "metadata": {},
   "outputs": [],
   "source": [
    "groups = [\"alt.atheism\", \"sci.space\", \"talk.religion.misc\", \"comp.graphics\"]\n",
    "data = []\n",
    "labels = []\n",
    "with tar.open(name=\"D:/HTWG/MSI/Semester1/Machine Learning/Aufgaben/20news-18828.tar.gz\", mode='r:gz') as archive:\n",
    "    for info in archive:\n",
    "        if info.isfile() and info.name.split('/')[-2] in groups:\n",
    "            file = archive.extractfile(info.name)\n",
    "            data.append(file.read().decode(\"latin-1\"))\n",
    "            labels.append(info.name.split('/')[-2])"
   ]
  },
  {
   "cell_type": "code",
   "execution_count": null,
   "metadata": {},
   "outputs": [],
   "source": [
    "print(len(data))"
   ]
  },
  {
   "cell_type": "code",
   "execution_count": null,
   "metadata": {
    "scrolled": true
   },
   "outputs": [],
   "source": [
    "data_partition = [d.partition('\\n\\n')[-1] for d in data]\n",
    "print(data_partition[1])\n",
    "print(data[1])"
   ]
  },
  {
   "cell_type": "code",
   "execution_count": null,
   "metadata": {
    "scrolled": false
   },
   "outputs": [],
   "source": [
    "tokenized_docs = [re.compile(r\"(?u)\\b\\w\\w+\\b\").findall(partition.lower()) for partition in data_partition]\n",
    "all_tokens = []\n",
    "for tokens in tokenized_docs:\n",
    "    all_tokens.extend(tokens)\n",
    "unique_tokens = set(all_tokens)\n",
    "n_tokens = len(unique_tokens)\n",
    "print(n_tokens)\n",
    "print(len(unique_tokens))\n",
    "print(tokenized_docs[1])"
   ]
  },
  {
   "cell_type": "code",
   "execution_count": null,
   "metadata": {},
   "outputs": [],
   "source": [
    "from collections import Counter\n",
    "vectors = []\n",
    "for tokens in tokenized_docs:\n",
    "    counter = Counter(tokens)\n",
    "    vector = []\n",
    "    for token in unique_tokens:\n",
    "        #print(counter[token])\n",
    "        vector.append(counter[token])\n",
    "    vectors.append(vector)\n",
    "print(vectors[0])\n",
    "    "
   ]
  },
  {
   "cell_type": "code",
   "execution_count": null,
   "metadata": {},
   "outputs": [],
   "source": [
    "cut = int(len(vectors) * 0.6)\n",
    "test_data = vectors[cut:]\n",
    "test_labels = labels[cut:]\n",
    "train_data = vectors[:cut]\n",
    "train_labels = labels[:cut]\n",
    "n_train = len(train_data)\n",
    "n_test = len(test_data)\n",
    "print(n_train)\n",
    "print(n_test)"
   ]
  },
  {
   "cell_type": "code",
   "execution_count": null,
   "metadata": {},
   "outputs": [],
   "source": [
    "Ni = {groups[0] : 0, \n",
    "       groups[1] : 0, \n",
    "       groups[2] : 0, \n",
    "       groups[3] : 0}\n",
    "\n",
    "nij = {groups[0] : np.zeros(n_tokens, dtype=np.int), \n",
    "       groups[1] : np.zeros(n_tokens, dtype=np.int), \n",
    "       groups[2] : np.zeros(n_tokens, dtype=np.int), \n",
    "       groups[3] : np.zeros(n_tokens, dtype=np.int)}\n",
    "\n",
    "pij = {groups[0] : np.zeros(n_tokens), \n",
    "       groups[1] : np.zeros(n_tokens), \n",
    "       groups[2] : np.zeros(n_tokens), \n",
    "       groups[3] : np.zeros(n_tokens)}\n",
    "\n",
    "pi = {groups[0] : 0.0, \n",
    "      groups[1] : 0.0, \n",
    "      groups[2] : 0.0, \n",
    "      groups[3] : 0.0}\n",
    "\n",
    "for i in range(n_train):\n",
    "    Ni[train_labels[i]] += np.sum(train_data[i])\n",
    "\n",
    "for i in range(n_train):\n",
    "    nij[train_labels[i]] += train_data[i]\n",
    "\n",
    "for group in groups:\n",
    "    pij[group] = (nij[group] + 1) / (Ni[group] + n_tokens) \n",
    "    \n",
    "for group in groups:\n",
    "    print(\"Group: {}\".format(group))\n",
    "    print(\"Ni: {}\".format(Ni[group]))\n",
    "    print(\"nij: {}\".format(nij[group]))\n",
    "    print(\"pij: {}\".format(pij[group]))\n",
    "    print()"
   ]
  },
  {
   "cell_type": "code",
   "execution_count": null,
   "metadata": {},
   "outputs": [],
   "source": [
    "corrects = np.full(shape=(n_test), fill_value=False)\n",
    "for i, lable in enumerate(test_labels):\n",
    "    max_p, max_group = -np.inf, None\n",
    "    for group in groups:\n",
    "        p = np.sum(np.log(pij[group]) * test_data[i])\n",
    "        \n",
    "        if p > max_p:\n",
    "            max_p = p\n",
    "            max_group = group\n",
    "            \n",
    "    corrects[i] = (lable==max_group)\n",
    "print(\"Correct: {}; Total: {}; Accuracy: {}%\".format(corrects.sum(), n_test, np.round(corrects.sum() / n_test, decimals=4)*100))"
   ]
  },
  {
   "cell_type": "code",
   "execution_count": null,
   "metadata": {},
   "outputs": [],
   "source": [
    "np.log([1,2])"
   ]
  },
  {
   "cell_type": "code",
   "execution_count": null,
   "metadata": {},
   "outputs": [],
   "source": []
  }
 ],
 "metadata": {
  "kernelspec": {
   "display_name": "Python 3",
   "language": "python",
   "name": "python3"
  },
  "language_info": {
   "codemirror_mode": {
    "name": "ipython",
    "version": 3
   },
   "file_extension": ".py",
   "mimetype": "text/x-python",
   "name": "python",
   "nbconvert_exporter": "python",
   "pygments_lexer": "ipython3",
   "version": "3.8.5"
  }
 },
 "nbformat": 4,
 "nbformat_minor": 2
}
